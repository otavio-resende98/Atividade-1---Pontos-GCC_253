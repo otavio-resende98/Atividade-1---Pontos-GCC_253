{
  "cells": [
    {
      "cell_type": "markdown",
      "metadata": {
        "id": "view-in-github",
        "colab_type": "text"
      },
      "source": [
        "<a href=\"https://colab.research.google.com/github/otavio-resende98/Atividade-1---Pontos-GCC_253/blob/main/Atividade_1_Pontos_GCC_253_O.ipynb\" target=\"_parent\"><img src=\"https://colab.research.google.com/assets/colab-badge.svg\" alt=\"Open In Colab\"/></a>"
      ]
    },
    {
      "cell_type": "markdown",
      "metadata": {
        "id": "XAdlKnDBj5uB"
      },
      "source": [
        "# EFC1 GCC253 - Complexidade e Projeto de Algoritmos - 5 pontos.\n",
        "\n",
        "\n",
        "> **Prof.: Douglas H. S. Abreu**\n",
        "\n",
        "\n",
        "**Aluno**: Otávio Augusto de Sousa Resende\n",
        "\n",
        "**Matricula**: 201810543\n",
        "\n",
        "**Turma**: 14A\n",
        "\n",
        "Link do repositório GitHub: https://github.com/otavio-resende98/Atividade-1---Pontos-GCC_253\n",
        "\n",
        "● O trabalho deve ser feito em grupos de no máximo 4 componentes (Apenas um deve enviar a atividade no Campus Virtual)\n",
        "\n",
        "● Trabalhos entregues após a data limite não serão aceitos\n",
        "\n",
        "● Data limite de entrega: 20 de Novembro de 2022 : 23h55m\n",
        "\n",
        "● Enviar o trabalho para o campus virtual, do seguinte modo: link do repositório GitHub com acesso ao Notebook.\n",
        "\n",
        "● O trabalho deve ser desenvolvido no modelo Notebook utilizando preferencialmente a linguagem Python"
      ]
    },
    {
      "cell_type": "markdown",
      "metadata": {
        "id": "J3d6JlRUxREN"
      },
      "source": [
        "# Importações e Variáveis globais"
      ]
    },
    {
      "cell_type": "code",
      "execution_count": 144,
      "metadata": {
        "id": "Ur1DVGQAxac4"
      },
      "outputs": [],
      "source": [
        "import numpy as np\n",
        "import random\n",
        "\n",
        "global_1=0\n",
        "\n",
        "# Funções auxiliares para geração de arranjos\n",
        "\n",
        "def generate_ordered_array(num_elements):\n",
        "  array = np.array(range(1, num_elements + 1, 1))\n",
        "  return array\n",
        "\n",
        "def generate_disordered_array(num_elements):\n",
        "  array = np.array(range(num_elements, 0, -1))\n",
        "  return array\n",
        "\n",
        "def generate_random_array(num_elements):\n",
        "  array = random.sample(range(1, num_elements + 1), num_elements)\n",
        "  return array"
      ]
    },
    {
      "cell_type": "markdown",
      "metadata": {
        "id": "kPNpzNYwkKAO"
      },
      "source": [
        "# Funções de Ordenação\n",
        "\n",
        "> Utilize este espaço para definir as funções de ordenação.\n",
        "\n"
      ]
    },
    {
      "cell_type": "markdown",
      "metadata": {
        "id": "nEw1UEsmoKMg"
      },
      "source": [
        "##  Insertion Sort\n"
      ]
    },
    {
      "cell_type": "code",
      "execution_count": 145,
      "metadata": {
        "id": "kbOrhdB-j_px"
      },
      "outputs": [],
      "source": [
        "def insertionSort(array):\n",
        "  for j in range(1, len(array)):\n",
        "    key = array[j]\n",
        "    i = j - 1\n",
        "    while i >= 0 and array[i] > key:\n",
        "      array[i + 1] = array[i]\n",
        "      i = i - 1\n",
        "    array[i + 1] = key\n",
        "\n",
        "  return array "
      ]
    },
    {
      "cell_type": "markdown",
      "metadata": {
        "id": "9a-wJwU-wtmQ"
      },
      "source": [
        "##  Merge Sort\n"
      ]
    },
    {
      "cell_type": "code",
      "execution_count": 146,
      "metadata": {
        "id": "8cgIJ_4EwbPN"
      },
      "outputs": [],
      "source": [
        "def mergeSort(array):\n",
        "  if len(array) > 1:\n",
        "    mid = len(array) // 2\n",
        "    left = array[:mid]\n",
        "    right = array[mid:]\n",
        "\n",
        "    mergeSort(left)\n",
        "    mergeSort(right)\n",
        "\n",
        "    i = 0\n",
        "    j = 0\n",
        "    aux = 0\n",
        "    \n",
        "    while i < len(left) and j < len(right):\n",
        "        if left[i] <= right[j]:\n",
        "          array[aux] = left[i]\n",
        "          i += 1\n",
        "        else:\n",
        "          array[aux] = right[j]\n",
        "          j += 1\n",
        "        aux += 1\n",
        "\n",
        "    while i < len(left):\n",
        "      array[aux] = left[i]\n",
        "      i += 1\n",
        "      aux += 1\n",
        "\n",
        "    while j < len(right):\n",
        "      array[aux] = right[j]\n",
        "      j += 1\n",
        "      aux += 1 \n",
        "\n",
        "  return array"
      ]
    },
    {
      "cell_type": "markdown",
      "metadata": {
        "id": "8dWpeYUvw-wU"
      },
      "source": [
        "##  Selection Sort\n"
      ]
    },
    {
      "cell_type": "code",
      "execution_count": 147,
      "metadata": {
        "id": "vNgUDShawygu"
      },
      "outputs": [],
      "source": [
        "def selectionSort(array):\n",
        "  for aux in range(len(array)):\n",
        "    menor_indice = aux\n",
        "    \n",
        "    for i in range(aux + 1, len(array)):\n",
        "        if array[i] < array[menor_indice]:\n",
        "          menor_indice = i\n",
        "      \n",
        "    (array[aux], array[menor_indice]) = (array[menor_indice], array[aux])\n",
        "  \n",
        "  return array"
      ]
    },
    {
      "cell_type": "markdown",
      "metadata": {
        "id": "zNI1kX0yyDrs"
      },
      "source": [
        "##  Bubble Sort\n"
      ]
    },
    {
      "cell_type": "code",
      "execution_count": 148,
      "metadata": {
        "id": "6X_zk1yWxMQS"
      },
      "outputs": [],
      "source": [
        "def bubbleSort(array):\n",
        "  changed = True\n",
        "  for i in range(len(array) - 1):\n",
        "    if changed:\n",
        "      changed = False\n",
        "      for j in range(len(array - i) - 1):\n",
        "        if array[j] > array[j + 1]:\n",
        "          temp = array[j + 1]\n",
        "          array[j + 1] = array[j]\n",
        "          array[j] = temp\n",
        "          changed = True\n",
        "\n",
        "  return array"
      ]
    },
    {
      "cell_type": "markdown",
      "metadata": {
        "id": "vk4vOTkKyLB-"
      },
      "source": [
        "## Heap Sort"
      ]
    },
    {
      "cell_type": "code",
      "execution_count": 149,
      "metadata": {
        "id": "39a7xXzLyH9g"
      },
      "outputs": [],
      "source": [
        "def max_heapify(array, size, i):\n",
        "  l = 2 * i + 1\n",
        "  r = 2 * i + 2\n",
        "\n",
        "  if l < size and array[l] > array[i]:\n",
        "    major = l\n",
        "  else:\n",
        "    major = i\n",
        "\n",
        "  if(r < size and array[r] > array[major]):\n",
        "    major = r\n",
        "\n",
        "  if(major != i):\n",
        "    array[i], array[major] = array[major], array[i]\n",
        "    max_heapify(array, size, major)\n",
        "\n",
        "def heapSort(array):\n",
        "  size = len(array)\n",
        "\n",
        "  for i in range(len(array) // 2 - 1, -1, -1):\n",
        "    max_heapify(array, size, i)\n",
        "    \n",
        "  for i in range(len(array) - 1, 0, -1): \n",
        "    array[i], array[0] = array[0], array[i]\n",
        "    max_heapify(array, i, 0)\n",
        "\n",
        "  return array"
      ]
    },
    {
      "cell_type": "markdown",
      "metadata": {
        "id": "fFiGho5CyU3t"
      },
      "source": [
        "## Quick Sort com pivo sendo o ultimo elemento do arranjo\n",
        "\n",
        "> pivo = *A[A-comprimento]*"
      ]
    },
    {
      "cell_type": "code",
      "execution_count": 150,
      "metadata": {
        "id": "1Ie_N5CRyKY7"
      },
      "outputs": [],
      "source": [
        "def partition(list, start, end):\n",
        "  pivot = list[end]\n",
        "  bottom = start-1\n",
        "  top = end\n",
        "\n",
        "  done = 0\n",
        "  while not done:\n",
        "    while not done:\n",
        "      bottom = bottom + 1\n",
        "\n",
        "      if bottom == top:\n",
        "        done = 1\n",
        "        break\n",
        "\n",
        "      if list[bottom] > pivot:\n",
        "        list[top] = list[bottom]\n",
        "        break\n",
        "\n",
        "    while not done:\n",
        "      top = top-1\n",
        "\n",
        "      if top == bottom:\n",
        "        done = 1\n",
        "        break\n",
        "  \n",
        "      if list[top] < pivot:\n",
        "          list[bottom] = list[top]\n",
        "          break\n",
        "\n",
        "    list[top] = pivot\n",
        "    return top\n",
        "  \n",
        "def quickSort(list, start, end):\n",
        "  if start < end:\n",
        "    split = partition(list, start, end)\n",
        "    quickSort(list, start, split-1)\n",
        "    quickSort(list, split+1, end)\n",
        "  else:\n",
        "    return"
      ]
    },
    {
      "cell_type": "markdown",
      "metadata": {
        "id": "VomdAnCrzEv1"
      },
      "source": [
        "# Questões"
      ]
    },
    {
      "cell_type": "markdown",
      "metadata": {
        "id": "3QKV979kzItD"
      },
      "source": [
        "\n",
        "\n",
        "1.   Escolha pelo menos 3 arranjos. Ex: ***A[5,...,1000,...,100]*** e mostre o funcionamento dos Algoritmos realizando a ordenação.\n",
        "\n",
        "\n",
        "\n"
      ]
    },
    {
      "cell_type": "markdown",
      "source": [
        "## Questão 1\n"
      ],
      "metadata": {
        "id": "UeICkJyVPxyZ"
      }
    },
    {
      "cell_type": "markdown",
      "source": [
        "### Funcionamento do Algoritmo Insertion Sort\n"
      ],
      "metadata": {
        "id": "UOOBfSsrXuhp"
      }
    },
    {
      "cell_type": "code",
      "source": [
        "def main():\n",
        "\n",
        "  print(\"Funcionamento do Algoritmo de Ordenação Insertion Sort\")\n",
        "\n",
        "  # Ordenação de um array ja ordenado\n",
        "  arrayOrdenado = generate_ordered_array(100)\n",
        "  print(\"Ordenação de um array ja ordenado\")\n",
        "  print(\"Array antes da ordenação\", arrayOrdenado)\n",
        "  arrayOrdenado = insertionSort(arrayOrdenado)\n",
        "  print(\"Array após a ordenação\", arrayOrdenado)\n",
        "\n",
        "  # Ordenação de array desordenado invertido\n",
        "  arrayDesordenadoInvertido = generate_disordered_array(100)\n",
        "  print(\"Ordenação de array desordenado invertido\")\n",
        "  print(\"Array antes da ordenação\", arrayDesordenadoInvertido)\n",
        "  arrayDesordenadoInvertido = insertionSort(arrayDesordenadoInvertido)\n",
        "  print(\"Array após a ordenação\", arrayDesordenadoInvertido)\n",
        "\n",
        "  # Ordenação de um array gerado aleatoriamente\n",
        "  arrayAleatorio = generate_random_array(100)\n",
        "  print(\"Ordenação de um array gerado aleatoriamente\")\n",
        "  print(\"Array antes da ordenação\", arrayAleatorio)\n",
        "  arrayAleatorio = insertionSort(arrayAleatorio)\n",
        "  print(\"Array após a ordenação\", arrayAleatorio)\n",
        "\n",
        "\n",
        "main()"
      ],
      "metadata": {
        "colab": {
          "base_uri": "https://localhost:8080/"
        },
        "id": "WfQYMaI3QFL2",
        "outputId": "707003be-4363-4fff-8e09-49add90ef11f"
      },
      "execution_count": 151,
      "outputs": [
        {
          "output_type": "stream",
          "name": "stdout",
          "text": [
            "Funcionamento do Algoritmo de Ordenação Insertion Sort\n",
            "Ordenação de um array ja ordenado\n",
            "Array antes da ordenação [  1   2   3   4   5   6   7   8   9  10  11  12  13  14  15  16  17  18\n",
            "  19  20  21  22  23  24  25  26  27  28  29  30  31  32  33  34  35  36\n",
            "  37  38  39  40  41  42  43  44  45  46  47  48  49  50  51  52  53  54\n",
            "  55  56  57  58  59  60  61  62  63  64  65  66  67  68  69  70  71  72\n",
            "  73  74  75  76  77  78  79  80  81  82  83  84  85  86  87  88  89  90\n",
            "  91  92  93  94  95  96  97  98  99 100]\n",
            "Array após a ordenação [  1   2   3   4   5   6   7   8   9  10  11  12  13  14  15  16  17  18\n",
            "  19  20  21  22  23  24  25  26  27  28  29  30  31  32  33  34  35  36\n",
            "  37  38  39  40  41  42  43  44  45  46  47  48  49  50  51  52  53  54\n",
            "  55  56  57  58  59  60  61  62  63  64  65  66  67  68  69  70  71  72\n",
            "  73  74  75  76  77  78  79  80  81  82  83  84  85  86  87  88  89  90\n",
            "  91  92  93  94  95  96  97  98  99 100]\n",
            "Ordenação de array desordenado invertido\n",
            "Array antes da ordenação [100  99  98  97  96  95  94  93  92  91  90  89  88  87  86  85  84  83\n",
            "  82  81  80  79  78  77  76  75  74  73  72  71  70  69  68  67  66  65\n",
            "  64  63  62  61  60  59  58  57  56  55  54  53  52  51  50  49  48  47\n",
            "  46  45  44  43  42  41  40  39  38  37  36  35  34  33  32  31  30  29\n",
            "  28  27  26  25  24  23  22  21  20  19  18  17  16  15  14  13  12  11\n",
            "  10   9   8   7   6   5   4   3   2   1]\n",
            "Array após a ordenação [  1   2   3   4   5   6   7   8   9  10  11  12  13  14  15  16  17  18\n",
            "  19  20  21  22  23  24  25  26  27  28  29  30  31  32  33  34  35  36\n",
            "  37  38  39  40  41  42  43  44  45  46  47  48  49  50  51  52  53  54\n",
            "  55  56  57  58  59  60  61  62  63  64  65  66  67  68  69  70  71  72\n",
            "  73  74  75  76  77  78  79  80  81  82  83  84  85  86  87  88  89  90\n",
            "  91  92  93  94  95  96  97  98  99 100]\n",
            "Ordenação de um array gerado aleatoriamente\n",
            "Array antes da ordenação [90, 73, 72, 77, 55, 71, 2, 68, 63, 60, 49, 6, 65, 15, 80, 52, 66, 20, 23, 98, 17, 18, 58, 16, 75, 9, 57, 99, 56, 70, 27, 64, 28, 22, 12, 30, 4, 54, 82, 1, 67, 31, 11, 94, 14, 42, 39, 34, 33, 74, 88, 47, 44, 24, 97, 8, 69, 53, 43, 36, 61, 19, 76, 38, 21, 91, 79, 100, 35, 83, 10, 32, 62, 29, 13, 26, 89, 40, 93, 86, 95, 81, 50, 85, 45, 37, 41, 84, 25, 59, 7, 87, 92, 3, 5, 48, 46, 96, 51, 78]\n",
            "Array após a ordenação [1, 2, 3, 4, 5, 6, 7, 8, 9, 10, 11, 12, 13, 14, 15, 16, 17, 18, 19, 20, 21, 22, 23, 24, 25, 26, 27, 28, 29, 30, 31, 32, 33, 34, 35, 36, 37, 38, 39, 40, 41, 42, 43, 44, 45, 46, 47, 48, 49, 50, 51, 52, 53, 54, 55, 56, 57, 58, 59, 60, 61, 62, 63, 64, 65, 66, 67, 68, 69, 70, 71, 72, 73, 74, 75, 76, 77, 78, 79, 80, 81, 82, 83, 84, 85, 86, 87, 88, 89, 90, 91, 92, 93, 94, 95, 96, 97, 98, 99, 100]\n"
          ]
        }
      ]
    },
    {
      "cell_type": "markdown",
      "source": [
        "### Funcionamento do Algoritmo Merge Sort"
      ],
      "metadata": {
        "id": "1NdfpClnXeDt"
      }
    },
    {
      "cell_type": "code",
      "source": [
        "def main():\n",
        "\n",
        "  print(\"Funcionamento do Algoritmo de Ordenação Merge Sort\")\n",
        "\n",
        "  # Ordenação de um array ja ordenado\n",
        "  arrayOrdenado = generate_ordered_array(100)\n",
        "  print(\"Ordenação de um array ja ordenado\")\n",
        "  print(\"Array antes da ordenação\", arrayOrdenado)\n",
        "  arrayOrdenado = mergeSort(arrayOrdenado)\n",
        "  print(\"Array após a ordenação\", arrayOrdenado)\n",
        "\n",
        "  # Ordenação de array desordenado invertido\n",
        "  arrayDesordenadoInvertido = generate_disordered_array(100)\n",
        "  print(\"Ordenação de array desordenado invertido\")\n",
        "  print(\"Array antes da ordenação\", arrayDesordenadoInvertido)\n",
        "  arrayDesordenadoInvertido = mergeSort(arrayDesordenadoInvertido)\n",
        "  print(\"Array após a ordenação\", arrayDesordenadoInvertido)\n",
        "\n",
        "  # Ordenação de um array gerado aleatoriamente\n",
        "  arrayAleatorio = generate_random_array(100)\n",
        "  print(\"Ordenação de um array gerado aleatoriamente\")\n",
        "  print(\"Array antes da ordenação\", arrayAleatorio)\n",
        "  arrayAleatorio = mergeSort(arrayAleatorio)\n",
        "  print(\"Array após a ordenação\", arrayAleatorio)\n",
        "\n",
        "\n",
        "main()"
      ],
      "metadata": {
        "colab": {
          "base_uri": "https://localhost:8080/"
        },
        "id": "WAz-gAmuXpgy",
        "outputId": "4a9a63dd-ed9a-438a-ac8c-33a322a80e57"
      },
      "execution_count": 152,
      "outputs": [
        {
          "output_type": "stream",
          "name": "stdout",
          "text": [
            "Funcionamento do Algoritmo de Ordenação Merge Sort\n",
            "Ordenação de um array ja ordenado\n",
            "Array antes da ordenação [  1   2   3   4   5   6   7   8   9  10  11  12  13  14  15  16  17  18\n",
            "  19  20  21  22  23  24  25  26  27  28  29  30  31  32  33  34  35  36\n",
            "  37  38  39  40  41  42  43  44  45  46  47  48  49  50  51  52  53  54\n",
            "  55  56  57  58  59  60  61  62  63  64  65  66  67  68  69  70  71  72\n",
            "  73  74  75  76  77  78  79  80  81  82  83  84  85  86  87  88  89  90\n",
            "  91  92  93  94  95  96  97  98  99 100]\n",
            "Array após a ordenação [  1   2   3   4   5   6   7   8   9  10  11  12  13  14  15  16  17  18\n",
            "  19  20  21  22  23  24  25  26  27  28  29  30  31  32  33  34  35  36\n",
            "  37  38  39  40  41  42  43  44  45  46  47  48  49  50  51  52  53  54\n",
            "  55  56  57  58  59  60  61  62  63  64  65  66  67  68  69  70  71  72\n",
            "  73  74  75  76  77  78  79  80  81  82  83  84  85  86  87  88  89  90\n",
            "  91  92  93  94  95  96  97  98  99 100]\n",
            "Ordenação de array desordenado invertido\n",
            "Array antes da ordenação [100  99  98  97  96  95  94  93  92  91  90  89  88  87  86  85  84  83\n",
            "  82  81  80  79  78  77  76  75  74  73  72  71  70  69  68  67  66  65\n",
            "  64  63  62  61  60  59  58  57  56  55  54  53  52  51  50  49  48  47\n",
            "  46  45  44  43  42  41  40  39  38  37  36  35  34  33  32  31  30  29\n",
            "  28  27  26  25  24  23  22  21  20  19  18  17  16  15  14  13  12  11\n",
            "  10   9   8   7   6   5   4   3   2   1]\n",
            "Array após a ordenação [1 1 1 1 1 1 1 1 1 1 1 1 1 1 1 1 1 1 1 1 1 1 1 1 1 1 1 1 1 1 1 1 1 1 1 1 1\n",
            " 1 1 1 1 1 1 1 1 1 1 1 1 1 1 1 1 1 1 1 1 1 1 1 1 1 1 1 1 1 1 1 1 1 1 1 1 1\n",
            " 1 1 1 1 1 1 1 1 1 1 1 1 1 1 1 1 1 1 1 1 1 1 1 1 1 1]\n",
            "Ordenação de um array gerado aleatoriamente\n",
            "Array antes da ordenação [23, 87, 78, 8, 92, 38, 97, 50, 61, 89, 28, 57, 18, 17, 70, 25, 2, 11, 5, 39, 13, 53, 86, 62, 94, 36, 85, 7, 1, 42, 90, 80, 67, 19, 15, 40, 22, 68, 44, 55, 71, 10, 81, 16, 4, 72, 58, 31, 26, 29, 56, 27, 47, 88, 64, 41, 20, 66, 6, 98, 30, 51, 45, 99, 59, 77, 95, 9, 96, 63, 33, 76, 91, 3, 69, 37, 24, 82, 79, 35, 73, 32, 84, 52, 100, 60, 74, 49, 65, 43, 75, 83, 48, 12, 21, 14, 93, 54, 34, 46]\n",
            "Array após a ordenação [1, 2, 3, 4, 5, 6, 7, 8, 9, 10, 11, 12, 13, 14, 15, 16, 17, 18, 19, 20, 21, 22, 23, 24, 25, 26, 27, 28, 29, 30, 31, 32, 33, 34, 35, 36, 37, 38, 39, 40, 41, 42, 43, 44, 45, 46, 47, 48, 49, 50, 51, 52, 53, 54, 55, 56, 57, 58, 59, 60, 61, 62, 63, 64, 65, 66, 67, 68, 69, 70, 71, 72, 73, 74, 75, 76, 77, 78, 79, 80, 81, 82, 83, 84, 85, 86, 87, 88, 89, 90, 91, 92, 93, 94, 95, 96, 97, 98, 99, 100]\n"
          ]
        }
      ]
    },
    {
      "cell_type": "markdown",
      "source": [
        "### Funcionamento do Algoritmo Selection Sort"
      ],
      "metadata": {
        "id": "bq5Q_ne6bBS3"
      }
    },
    {
      "cell_type": "code",
      "source": [
        "def main():\n",
        "\n",
        "  print(\"Funcionamento do Algoritmo de Ordenação Selection Sort\")\n",
        "\n",
        "  # Ordenação de um array ja ordenado\n",
        "  arrayOrdenado = generate_ordered_array(100)\n",
        "  print(\"Ordenação de um array ja ordenado\")\n",
        "  print(\"Array antes da ordenação\", arrayOrdenado)\n",
        "  arrayOrdenado = selectionSort(arrayOrdenado)\n",
        "  print(\"Array após a ordenação\", arrayOrdenado)\n",
        "\n",
        "  # Ordenação de array desordenado invertido\n",
        "  arrayDesordenadoInvertido = generate_disordered_array(100)\n",
        "  print(\"Ordenação de array desordenado invertido\")\n",
        "  print(\"Array antes da ordenação\", arrayDesordenadoInvertido)\n",
        "  arrayDesordenadoInvertido = selectionSort(arrayDesordenadoInvertido)\n",
        "  print(\"Array após a ordenação\", arrayDesordenadoInvertido)\n",
        "\n",
        "  # Ordenação de um array gerado aleatoriamente\n",
        "  arrayAleatorio = generate_random_array(100)\n",
        "  print(\"Ordenação de um array gerado aleatoriamente\")\n",
        "  print(\"Array antes da ordenação\", arrayAleatorio)\n",
        "  arrayAleatorio = selectionSort(np.array(arrayAleatorio))\n",
        "  print(\"Array após a ordenação\", arrayAleatorio)\n",
        "\n",
        "\n",
        "main()"
      ],
      "metadata": {
        "colab": {
          "base_uri": "https://localhost:8080/"
        },
        "id": "e_YEIwFObFS4",
        "outputId": "b4f0e47e-0eda-44cb-cb6a-6296ca43794c"
      },
      "execution_count": 153,
      "outputs": [
        {
          "output_type": "stream",
          "name": "stdout",
          "text": [
            "Funcionamento do Algoritmo de Ordenação Selection Sort\n",
            "Ordenação de um array ja ordenado\n",
            "Array antes da ordenação [  1   2   3   4   5   6   7   8   9  10  11  12  13  14  15  16  17  18\n",
            "  19  20  21  22  23  24  25  26  27  28  29  30  31  32  33  34  35  36\n",
            "  37  38  39  40  41  42  43  44  45  46  47  48  49  50  51  52  53  54\n",
            "  55  56  57  58  59  60  61  62  63  64  65  66  67  68  69  70  71  72\n",
            "  73  74  75  76  77  78  79  80  81  82  83  84  85  86  87  88  89  90\n",
            "  91  92  93  94  95  96  97  98  99 100]\n",
            "Array após a ordenação [  1   2   3   4   5   6   7   8   9  10  11  12  13  14  15  16  17  18\n",
            "  19  20  21  22  23  24  25  26  27  28  29  30  31  32  33  34  35  36\n",
            "  37  38  39  40  41  42  43  44  45  46  47  48  49  50  51  52  53  54\n",
            "  55  56  57  58  59  60  61  62  63  64  65  66  67  68  69  70  71  72\n",
            "  73  74  75  76  77  78  79  80  81  82  83  84  85  86  87  88  89  90\n",
            "  91  92  93  94  95  96  97  98  99 100]\n",
            "Ordenação de array desordenado invertido\n",
            "Array antes da ordenação [100  99  98  97  96  95  94  93  92  91  90  89  88  87  86  85  84  83\n",
            "  82  81  80  79  78  77  76  75  74  73  72  71  70  69  68  67  66  65\n",
            "  64  63  62  61  60  59  58  57  56  55  54  53  52  51  50  49  48  47\n",
            "  46  45  44  43  42  41  40  39  38  37  36  35  34  33  32  31  30  29\n",
            "  28  27  26  25  24  23  22  21  20  19  18  17  16  15  14  13  12  11\n",
            "  10   9   8   7   6   5   4   3   2   1]\n",
            "Array após a ordenação [  1   2   3   4   5   6   7   8   9  10  11  12  13  14  15  16  17  18\n",
            "  19  20  21  22  23  24  25  26  27  28  29  30  31  32  33  34  35  36\n",
            "  37  38  39  40  41  42  43  44  45  46  47  48  49  50  51  52  53  54\n",
            "  55  56  57  58  59  60  61  62  63  64  65  66  67  68  69  70  71  72\n",
            "  73  74  75  76  77  78  79  80  81  82  83  84  85  86  87  88  89  90\n",
            "  91  92  93  94  95  96  97  98  99 100]\n",
            "Ordenação de um array gerado aleatoriamente\n",
            "Array antes da ordenação [34, 16, 43, 12, 25, 78, 67, 53, 95, 85, 36, 27, 29, 11, 76, 65, 35, 100, 7, 73, 20, 10, 74, 41, 38, 93, 60, 30, 44, 19, 86, 45, 68, 8, 64, 50, 99, 42, 75, 52, 28, 71, 97, 59, 84, 91, 46, 62, 98, 1, 77, 15, 24, 94, 87, 31, 66, 22, 92, 40, 55, 72, 58, 89, 17, 37, 13, 2, 14, 80, 4, 9, 47, 33, 48, 18, 90, 83, 51, 5, 6, 49, 39, 81, 79, 96, 23, 54, 61, 63, 88, 3, 57, 82, 69, 70, 32, 26, 56, 21]\n",
            "Array após a ordenação [  1   2   3   4   5   6   7   8   9  10  11  12  13  14  15  16  17  18\n",
            "  19  20  21  22  23  24  25  26  27  28  29  30  31  32  33  34  35  36\n",
            "  37  38  39  40  41  42  43  44  45  46  47  48  49  50  51  52  53  54\n",
            "  55  56  57  58  59  60  61  62  63  64  65  66  67  68  69  70  71  72\n",
            "  73  74  75  76  77  78  79  80  81  82  83  84  85  86  87  88  89  90\n",
            "  91  92  93  94  95  96  97  98  99 100]\n"
          ]
        }
      ]
    },
    {
      "cell_type": "markdown",
      "source": [
        "### Funcionamento do Algoritmo Bubble Sort"
      ],
      "metadata": {
        "id": "xYKP8WhybQcY"
      }
    },
    {
      "cell_type": "code",
      "source": [
        "def main():\n",
        "\n",
        "  print(\"Funcionamento do Algoritmo de Ordenação Bubble Sort\")\n",
        "\n",
        "  # Ordenação de um array ja ordenado\n",
        "  arrayOrdenado = generate_ordered_array(100)\n",
        "  print(\"Ordenação de um array ja ordenado\")\n",
        "  print(\"Array antes da ordenação\", arrayOrdenado)\n",
        "  arrayOrdenado = bubbleSort(arrayOrdenado)\n",
        "  print(\"Array após a ordenação\", arrayOrdenado)\n",
        "\n",
        "  # Ordenação de array desordenado invertido\n",
        "  arrayDesordenadoInvertido = generate_disordered_array(100)\n",
        "  print(\"Ordenação de array desordenado invertido\")\n",
        "  print(\"Array antes da ordenação\", arrayDesordenadoInvertido)\n",
        "  arrayDesordenadoInvertido = bubbleSort(arrayDesordenadoInvertido)\n",
        "  print(\"Array após a ordenação\", arrayDesordenadoInvertido)\n",
        "\n",
        "  # Ordenação de um array gerado aleatoriamente\n",
        "  arrayAleatorio = generate_random_array(100)\n",
        "  print(\"Ordenação de um array gerado aleatoriamente\")\n",
        "  print(\"Array antes da ordenação\", arrayAleatorio)\n",
        "  arrayAleatorio = bubbleSort(np.array(arrayAleatorio))\n",
        "  print(\"Array após a ordenação\", arrayAleatorio)\n",
        "\n",
        "\n",
        "main()"
      ],
      "metadata": {
        "colab": {
          "base_uri": "https://localhost:8080/"
        },
        "id": "tgcN4dAkbQz0",
        "outputId": "ef41420a-1ab4-4206-d8c2-9f59bae49c09"
      },
      "execution_count": 154,
      "outputs": [
        {
          "output_type": "stream",
          "name": "stdout",
          "text": [
            "Funcionamento do Algoritmo de Ordenação Bubble Sort\n",
            "Ordenação de um array ja ordenado\n",
            "Array antes da ordenação [  1   2   3   4   5   6   7   8   9  10  11  12  13  14  15  16  17  18\n",
            "  19  20  21  22  23  24  25  26  27  28  29  30  31  32  33  34  35  36\n",
            "  37  38  39  40  41  42  43  44  45  46  47  48  49  50  51  52  53  54\n",
            "  55  56  57  58  59  60  61  62  63  64  65  66  67  68  69  70  71  72\n",
            "  73  74  75  76  77  78  79  80  81  82  83  84  85  86  87  88  89  90\n",
            "  91  92  93  94  95  96  97  98  99 100]\n",
            "Array após a ordenação [  1   2   3   4   5   6   7   8   9  10  11  12  13  14  15  16  17  18\n",
            "  19  20  21  22  23  24  25  26  27  28  29  30  31  32  33  34  35  36\n",
            "  37  38  39  40  41  42  43  44  45  46  47  48  49  50  51  52  53  54\n",
            "  55  56  57  58  59  60  61  62  63  64  65  66  67  68  69  70  71  72\n",
            "  73  74  75  76  77  78  79  80  81  82  83  84  85  86  87  88  89  90\n",
            "  91  92  93  94  95  96  97  98  99 100]\n",
            "Ordenação de array desordenado invertido\n",
            "Array antes da ordenação [100  99  98  97  96  95  94  93  92  91  90  89  88  87  86  85  84  83\n",
            "  82  81  80  79  78  77  76  75  74  73  72  71  70  69  68  67  66  65\n",
            "  64  63  62  61  60  59  58  57  56  55  54  53  52  51  50  49  48  47\n",
            "  46  45  44  43  42  41  40  39  38  37  36  35  34  33  32  31  30  29\n",
            "  28  27  26  25  24  23  22  21  20  19  18  17  16  15  14  13  12  11\n",
            "  10   9   8   7   6   5   4   3   2   1]\n",
            "Array após a ordenação [  1   2   3   4   5   6   7   8   9  10  11  12  13  14  15  16  17  18\n",
            "  19  20  21  22  23  24  25  26  27  28  29  30  31  32  33  34  35  36\n",
            "  37  38  39  40  41  42  43  44  45  46  47  48  49  50  51  52  53  54\n",
            "  55  56  57  58  59  60  61  62  63  64  65  66  67  68  69  70  71  72\n",
            "  73  74  75  76  77  78  79  80  81  82  83  84  85  86  87  88  89  90\n",
            "  91  92  93  94  95  96  97  98  99 100]\n",
            "Ordenação de um array gerado aleatoriamente\n",
            "Array antes da ordenação [42, 61, 74, 56, 93, 85, 46, 41, 79, 71, 54, 25, 77, 1, 52, 8, 13, 39, 34, 70, 89, 58, 72, 99, 69, 48, 84, 57, 80, 91, 97, 86, 63, 33, 76, 5, 18, 88, 26, 37, 98, 51, 62, 16, 92, 31, 82, 43, 11, 4, 28, 40, 22, 24, 14, 60, 47, 73, 81, 32, 19, 100, 45, 95, 21, 7, 96, 27, 17, 78, 30, 94, 20, 83, 87, 55, 6, 65, 75, 49, 66, 67, 29, 38, 36, 44, 64, 3, 12, 9, 10, 53, 59, 23, 50, 15, 2, 68, 90, 35]\n",
            "Array após a ordenação [  1   2   3   4   5   6   7   8   9  10  11  12  13  14  15  16  17  18\n",
            "  19  20  21  22  23  24  25  26  27  28  29  30  31  32  33  34  35  36\n",
            "  37  38  39  40  41  42  43  44  45  46  47  48  49  50  51  52  53  54\n",
            "  55  56  57  58  59  60  61  62  63  64  65  66  67  68  69  70  71  72\n",
            "  73  74  75  76  77  78  79  80  81  82  83  84  85  86  87  88  89  90\n",
            "  91  92  93  94  95  96  97  98  99 100]\n"
          ]
        }
      ]
    },
    {
      "cell_type": "markdown",
      "source": [
        "### Funcionamento do Algoritmo Heap Sort"
      ],
      "metadata": {
        "id": "BBYSSIo4cE47"
      }
    },
    {
      "cell_type": "code",
      "source": [
        "def main():\n",
        "\n",
        "  print(\"Funcionamento do Algoritmo de Ordenação Heap Sort\")\n",
        "\n",
        "  # Ordenação de um array ja ordenado\n",
        "  arrayOrdenado = generate_ordered_array(100)\n",
        "  print(\"Ordenação de um array ja ordenado\")\n",
        "  print(\"Array antes da ordenação\", arrayOrdenado)\n",
        "  arrayOrdenado = heapSort(arrayOrdenado)\n",
        "  print(\"Array após a ordenação\", arrayOrdenado)\n",
        "\n",
        "  # Ordenação de array desordenado invertido\n",
        "  arrayDesordenadoInvertido = generate_disordered_array(100)\n",
        "  print(\"Ordenação de array desordenado invertido\")\n",
        "  print(\"Array antes da ordenação\", arrayDesordenadoInvertido)\n",
        "  arrayDesordenadoInvertido = heapSort(arrayDesordenadoInvertido)\n",
        "  print(\"Array após a ordenação\", arrayDesordenadoInvertido)\n",
        "\n",
        "  # Ordenação de um array gerado aleatoriamente\n",
        "  arrayAleatorio = generate_random_array(100)\n",
        "  print(\"Ordenação de um array gerado aleatoriamente\")\n",
        "  print(\"Array antes da ordenação\", arrayAleatorio)\n",
        "  arrayAleatorio = heapSort(arrayAleatorio)\n",
        "  print(\"Array após a ordenação\", arrayAleatorio)\n",
        "\n",
        "\n",
        "main()"
      ],
      "metadata": {
        "colab": {
          "base_uri": "https://localhost:8080/"
        },
        "id": "gySwjtZhcFG_",
        "outputId": "6414393f-3b0c-4c94-cad3-b4318e95afdf"
      },
      "execution_count": 155,
      "outputs": [
        {
          "output_type": "stream",
          "name": "stdout",
          "text": [
            "Funcionamento do Algoritmo de Ordenação Heap Sort\n",
            "Ordenação de um array ja ordenado\n",
            "Array antes da ordenação [  1   2   3   4   5   6   7   8   9  10  11  12  13  14  15  16  17  18\n",
            "  19  20  21  22  23  24  25  26  27  28  29  30  31  32  33  34  35  36\n",
            "  37  38  39  40  41  42  43  44  45  46  47  48  49  50  51  52  53  54\n",
            "  55  56  57  58  59  60  61  62  63  64  65  66  67  68  69  70  71  72\n",
            "  73  74  75  76  77  78  79  80  81  82  83  84  85  86  87  88  89  90\n",
            "  91  92  93  94  95  96  97  98  99 100]\n",
            "Array após a ordenação [  1   2   3   4   5   6   7   8   9  10  11  12  13  14  15  16  17  18\n",
            "  19  20  21  22  23  24  25  26  27  28  29  30  31  32  33  34  35  36\n",
            "  37  38  39  40  41  42  43  44  45  46  47  48  49  50  51  52  53  54\n",
            "  55  56  57  58  59  60  61  62  63  64  65  66  67  68  69  70  71  72\n",
            "  73  74  75  76  77  78  79  80  81  82  83  84  85  86  87  88  89  90\n",
            "  91  92  93  94  95  96  97  98  99 100]\n",
            "Ordenação de array desordenado invertido\n",
            "Array antes da ordenação [100  99  98  97  96  95  94  93  92  91  90  89  88  87  86  85  84  83\n",
            "  82  81  80  79  78  77  76  75  74  73  72  71  70  69  68  67  66  65\n",
            "  64  63  62  61  60  59  58  57  56  55  54  53  52  51  50  49  48  47\n",
            "  46  45  44  43  42  41  40  39  38  37  36  35  34  33  32  31  30  29\n",
            "  28  27  26  25  24  23  22  21  20  19  18  17  16  15  14  13  12  11\n",
            "  10   9   8   7   6   5   4   3   2   1]\n",
            "Array após a ordenação [  1   2   3   4   5   6   7   8   9  10  11  12  13  14  15  16  17  18\n",
            "  19  20  21  22  23  24  25  26  27  28  29  30  31  32  33  34  35  36\n",
            "  37  38  39  40  41  42  43  44  45  46  47  48  49  50  51  52  53  54\n",
            "  55  56  57  58  59  60  61  62  63  64  65  66  67  68  69  70  71  72\n",
            "  73  74  75  76  77  78  79  80  81  82  83  84  85  86  87  88  89  90\n",
            "  91  92  93  94  95  96  97  98  99 100]\n",
            "Ordenação de um array gerado aleatoriamente\n",
            "Array antes da ordenação [99, 88, 78, 70, 29, 38, 100, 86, 97, 34, 2, 62, 10, 25, 80, 74, 92, 40, 72, 8, 95, 1, 41, 32, 68, 79, 53, 60, 69, 58, 7, 30, 20, 87, 54, 23, 64, 75, 77, 11, 50, 3, 59, 15, 51, 31, 39, 47, 93, 14, 98, 43, 16, 9, 63, 17, 26, 66, 19, 52, 21, 55, 35, 44, 24, 49, 67, 76, 46, 4, 48, 18, 61, 65, 91, 94, 42, 36, 22, 56, 89, 73, 45, 83, 57, 90, 82, 81, 33, 5, 12, 96, 71, 6, 84, 27, 85, 13, 37, 28]\n",
            "Array após a ordenação [1, 2, 3, 4, 5, 6, 7, 8, 9, 10, 11, 12, 13, 14, 15, 16, 17, 18, 19, 20, 21, 22, 23, 24, 25, 26, 27, 28, 29, 30, 31, 32, 33, 34, 35, 36, 37, 38, 39, 40, 41, 42, 43, 44, 45, 46, 47, 48, 49, 50, 51, 52, 53, 54, 55, 56, 57, 58, 59, 60, 61, 62, 63, 64, 65, 66, 67, 68, 69, 70, 71, 72, 73, 74, 75, 76, 77, 78, 79, 80, 81, 82, 83, 84, 85, 86, 87, 88, 89, 90, 91, 92, 93, 94, 95, 96, 97, 98, 99, 100]\n"
          ]
        }
      ]
    },
    {
      "cell_type": "markdown",
      "source": [
        "### Funcionamento do Algoritmo Quick Sort com pivo sendo o ultimo elemento do arranjo"
      ],
      "metadata": {
        "id": "StLYEtnUcZpU"
      }
    },
    {
      "cell_type": "code",
      "source": [
        "def main():\n",
        "\n",
        "  print(\"Funcionamento do Algoritmo de Ordenação Quick Sort com pivo sendo o ultimo elemento do arranjo\")\n",
        "\n",
        "  # Ordenação de um array ja ordenado\n",
        "  arrayOrdenado = generate_ordered_array(100)\n",
        "  print(\"Ordenação de um array ja ordenado\")\n",
        "  print(\"Array antes da ordenação\", arrayOrdenado)\n",
        "  quickSort(arrayOrdenado, 0, len(arrayOrdenado) - 1)\n",
        "  print(\"Array após a ordenação\", np.array(arrayOrdenado))\n",
        "\n",
        "  # Ordenação de array desordenado invertido\n",
        "  arrayDesordenadoInvertido = generate_disordered_array(100)\n",
        "  print(\"Ordenação de array desordenado invertido\")\n",
        "  print(\"Array antes da ordenação\", arrayDesordenadoInvertido)\n",
        "  quickSort(arrayDesordenadoInvertido, 0, len(arrayDesordenadoInvertido) - 1)\n",
        "  print(\"Array após a ordenação\", np.array(arrayDesordenadoInvertido))\n",
        "\n",
        "  # Ordenação de um array gerado aleatoriamente\n",
        "  arrayAleatorio = generate_random_array(100)\n",
        "  print(\"Ordenação de um array gerado aleatoriamente\")\n",
        "  print(\"Array antes da ordenação\", arrayAleatorio)\n",
        "  quickSort(arrayAleatorio, 0, len(arrayAleatorio) - 1)\n",
        "  print(\"Array após a ordenação\", np.array(arrayAleatorio))\n",
        "\n",
        "\n",
        "main()"
      ],
      "metadata": {
        "colab": {
          "base_uri": "https://localhost:8080/"
        },
        "id": "bKMPtWG9cZ5p",
        "outputId": "cd366eaf-9ed9-426e-856e-6c1339a8b307"
      },
      "execution_count": 156,
      "outputs": [
        {
          "output_type": "stream",
          "name": "stdout",
          "text": [
            "Funcionamento do Algoritmo de Ordenação Quick Sort com pivo sendo o ultimo elemento do arranjo\n",
            "Ordenação de um array ja ordenado\n",
            "Array antes da ordenação [  1   2   3   4   5   6   7   8   9  10  11  12  13  14  15  16  17  18\n",
            "  19  20  21  22  23  24  25  26  27  28  29  30  31  32  33  34  35  36\n",
            "  37  38  39  40  41  42  43  44  45  46  47  48  49  50  51  52  53  54\n",
            "  55  56  57  58  59  60  61  62  63  64  65  66  67  68  69  70  71  72\n",
            "  73  74  75  76  77  78  79  80  81  82  83  84  85  86  87  88  89  90\n",
            "  91  92  93  94  95  96  97  98  99 100]\n",
            "Array após a ordenação [  1   2   3   4   5   6   7   8   9  10  11  12  13  14  15  16  17  18\n",
            "  19  20  21  22  23  24  25  26  27  28  29  30  31  32  33  34  35  36\n",
            "  37  38  39  40  41  42  43  44  45  46  47  48  49  50  51  52  53  54\n",
            "  55  56  57  58  59  60  61  62  63  64  65  66  67  68  69  70  71  72\n",
            "  73  74  75  76  77  78  79  80  81  82  83  84  85  86  87  88  89  90\n",
            "  91  92  93  94  95  96  97  98  99 100]\n",
            "Ordenação de array desordenado invertido\n",
            "Array antes da ordenação [100  99  98  97  96  95  94  93  92  91  90  89  88  87  86  85  84  83\n",
            "  82  81  80  79  78  77  76  75  74  73  72  71  70  69  68  67  66  65\n",
            "  64  63  62  61  60  59  58  57  56  55  54  53  52  51  50  49  48  47\n",
            "  46  45  44  43  42  41  40  39  38  37  36  35  34  33  32  31  30  29\n",
            "  28  27  26  25  24  23  22  21  20  19  18  17  16  15  14  13  12  11\n",
            "  10   9   8   7   6   5   4   3   2   1]\n",
            "Array após a ordenação [  1   2   3   4   5   6   7   8   9  10  11  12  13  14  15  16  17  18\n",
            "  19  20  21  22  23  24  25  26  27  28  29  30  31  32  33  34  35  36\n",
            "  37  38  39  40  41  42  43  44  45  46  47  48  49  50  51  52  53  54\n",
            "  55  56  57  58  59  60  61  62  63  64  65  66  67  68  69  70  71  72\n",
            "  73  74  75  76  77  78  79  80  81  82  83  84  85  86  87  88  89  90\n",
            "  91  92  93  94  95  96  97  98  99 100]\n",
            "Ordenação de um array gerado aleatoriamente\n",
            "Array antes da ordenação [91, 89, 33, 76, 70, 25, 50, 99, 97, 81, 59, 49, 12, 38, 61, 69, 15, 41, 51, 11, 84, 31, 39, 74, 79, 47, 44, 35, 4, 64, 66, 27, 8, 71, 92, 73, 55, 3, 80, 16, 37, 67, 7, 22, 77, 28, 43, 9, 72, 46, 40, 19, 95, 82, 34, 56, 45, 53, 98, 20, 93, 36, 48, 29, 57, 94, 21, 24, 18, 100, 96, 60, 52, 54, 32, 78, 65, 88, 85, 5, 42, 63, 26, 14, 75, 83, 10, 13, 2, 87, 1, 30, 68, 86, 62, 17, 90, 6, 23, 58]\n",
            "Array após a ordenação [  1   2   3   4   5   8   9  18  12  20  22  32  34  38  11  15  25  31\n",
            "  41  51  57  39  69  74  35  44  47  49  27  28  64  66  55  61  71  73\n",
            "  92   7  10  16  37  67  80  77  79  43  45  19  21  40  46  72  82  84\n",
            "  56  59  53  65  98  29  36  48  50  93  94  95  24  52  60  75  96 100\n",
            "  54  70  78  81  85  88  97  14  26  42  63  76  83  99  13  33  87  89\n",
            "   6  17  62  68  86  23  30  90  58  91]\n"
          ]
        }
      ]
    }
  ],
  "metadata": {
    "colab": {
      "provenance": [],
      "toc_visible": true,
      "include_colab_link": true
    },
    "kernelspec": {
      "display_name": "Python 3",
      "name": "python3"
    },
    "language_info": {
      "name": "python"
    }
  },
  "nbformat": 4,
  "nbformat_minor": 0
}
